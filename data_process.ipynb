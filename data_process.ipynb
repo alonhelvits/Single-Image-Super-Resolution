{
 "cells": [
  {
   "cell_type": "markdown",
   "metadata": {},
   "source": [
    "# Linoy Ketashvili - 316220235\n",
    "# Alon Helvits - 315531087"
   ]
  },
  {
   "cell_type": "code",
   "execution_count": 1,
   "metadata": {},
   "outputs": [],
   "source": [
    "import os\n",
    "from PIL import Image\n",
    "import random"
   ]
  },
  {
   "cell_type": "code",
   "execution_count": 3,
   "metadata": {},
   "outputs": [],
   "source": [
    "def crop_and_save_images(input_folder, output_folder, crop_size=(512, 512), crops_per_image=3):\n",
    "    if not os.path.exists(output_folder):\n",
    "        os.makedirs(output_folder)\n",
    "\n",
    "    for root, _, files in os.walk(input_folder):\n",
    "        # Create the corresponding output directory\n",
    "        output_subfolder = root.replace(input_folder, output_folder)\n",
    "        if not os.path.exists(output_subfolder):\n",
    "            os.makedirs(output_subfolder)\n",
    "\n",
    "        for file in files:\n",
    "            if file.endswith('.png'):\n",
    "                img_path = os.path.join(root, file)\n",
    "                img = Image.open(img_path)\n",
    "                img_width, img_height = img.size\n",
    "\n",
    "                for i in range(crops_per_image):\n",
    "                    left = random.randint(0, img_width - crop_size[0])\n",
    "                    top = random.randint(0, img_height - crop_size[1])\n",
    "                    right = left + crop_size[0]\n",
    "                    bottom = top + crop_size[1]\n",
    "                    \n",
    "                    crop = img.crop((left, top, right, bottom))\n",
    "                    \n",
    "                    output_filename = f\"{os.path.splitext(file)[0]}_{i}.png\"\n",
    "                    output_path = os.path.join(output_subfolder, output_filename)\n",
    "                    crop.save(output_path)\n"
   ]
  },
  {
   "cell_type": "code",
   "execution_count": 4,
   "metadata": {},
   "outputs": [],
   "source": [
    "# Define the source and target directories\n",
    "datasets = ['man_made', 'nature']\n",
    "subsets = ['train', 'val', 'test']\n",
    "\n",
    "for dataset in datasets:\n",
    "    for subset in subsets:\n",
    "        input_folder = f'dataset/{dataset}/{subset}'\n",
    "        output_folder = f'dataset/{dataset}_cropped/{subset}'\n",
    "        crop_and_save_images(input_folder, output_folder)\n"
   ]
  },
  {
   "cell_type": "markdown",
   "metadata": {},
   "source": [
    "# Create smaller and even dataset"
   ]
  },
  {
   "cell_type": "code",
   "execution_count": 9,
   "metadata": {},
   "outputs": [
    {
     "name": "stdout",
     "output_type": "stream",
     "text": [
      "Sampling and copying completed!\n"
     ]
    }
   ],
   "source": [
    "import os\n",
    "import random\n",
    "import shutil\n",
    "\n",
    "# Paths\n",
    "original_base_path = \"dataset\"\n",
    "new_base_path = \"dataset\"\n",
    "categories = [\"man_made_cropped\", \"nature_cropped\"]\n",
    "new_categories = [\"man_made_800\", \"nature_800\"]\n",
    "folders = [\"train\", \"val\", \"test\"]\n",
    "\n",
    "# Number of images to sample\n",
    "samples = {\"train\": 809, \"val\": 85, \"test\": 85}\n",
    "\n",
    "def create_folder_structure(new_base_path, new_categories, folders):\n",
    "    for category in new_categories:\n",
    "        for folder in folders:\n",
    "            path = os.path.join(new_base_path, category, folder)\n",
    "            os.makedirs(path, exist_ok=True)\n",
    "\n",
    "def sample_and_copy_images(original_base_path, new_base_path, categories, new_categories, folders, samples):\n",
    "    for category, new_category in zip(categories, new_categories):\n",
    "        for folder in folders:\n",
    "            original_folder_path = os.path.join(original_base_path, category, folder)\n",
    "            new_folder_path = os.path.join(new_base_path, new_category, folder)\n",
    "            \n",
    "            # List all image files in the folder\n",
    "            all_images = os.listdir(original_folder_path)\n",
    "            \n",
    "            # Randomly sample the required number of images\n",
    "            sampled_images = random.sample(all_images, samples[folder])\n",
    "            \n",
    "            # Copy each sampled image to the new folder\n",
    "            for image in sampled_images:\n",
    "                original_image_path = os.path.join(original_folder_path, image)\n",
    "                new_image_path = os.path.join(new_folder_path, image)\n",
    "                shutil.copy2(original_image_path, new_image_path)\n",
    "\n",
    "if __name__ == \"__main__\":\n",
    "    # Create the new folder structure\n",
    "    create_folder_structure(new_base_path, new_categories, folders)\n",
    "    \n",
    "    # Sample and copy images\n",
    "    sample_and_copy_images(original_base_path, new_base_path, categories, new_categories, folders, samples)\n",
    "\n",
    "    print(\"Sampling and copying completed!\")\n"
   ]
  },
  {
   "cell_type": "code",
   "execution_count": 10,
   "metadata": {},
   "outputs": [
    {
     "name": "stdout",
     "output_type": "stream",
     "text": [
      "Combined sampling and copying completed!\n"
     ]
    }
   ],
   "source": [
    "import os\n",
    "import random\n",
    "import shutil\n",
    "\n",
    "# Paths\n",
    "base_path = \"dataset\"\n",
    "new_combined_path = os.path.join(base_path, \"combined_800\")\n",
    "categories = [\"man_made_800\", \"nature_800\"]\n",
    "folders = [\"train\", \"val\", \"test\"]\n",
    "\n",
    "# Number of images to sample from each category\n",
    "samples = {\"train\": 390, \"val\": 42, \"test\": 42}\n",
    "\n",
    "def create_combined_folder_structure(base_path, new_combined_path, folders):\n",
    "    for folder in folders:\n",
    "        path = os.path.join(new_combined_path, folder)\n",
    "        os.makedirs(path, exist_ok=True)\n",
    "\n",
    "def sample_and_copy_combined_images(base_path, new_combined_path, categories, folders, samples):\n",
    "    for folder in folders:\n",
    "        combined_images = []\n",
    "        \n",
    "        for category in categories:\n",
    "            folder_path = os.path.join(base_path, category, folder)\n",
    "            \n",
    "            # List all image files in the folder\n",
    "            all_images = os.listdir(folder_path)\n",
    "            \n",
    "            # Randomly sample the required number of images\n",
    "            sampled_images = random.sample(all_images, samples[folder])\n",
    "            \n",
    "            # Collect paths to be copied\n",
    "            for image in sampled_images:\n",
    "                original_image_path = os.path.join(folder_path, image)\n",
    "                combined_images.append(original_image_path)\n",
    "        \n",
    "        # Copy the combined sampled images to the new folder\n",
    "        new_folder_path = os.path.join(new_combined_path, folder)\n",
    "        for image_path in combined_images:\n",
    "            image_name = os.path.basename(image_path)\n",
    "            new_image_path = os.path.join(new_folder_path, image_name)\n",
    "            shutil.copy2(image_path, new_image_path)\n",
    "\n",
    "if __name__ == \"__main__\":\n",
    "    # Create the combined folder structure\n",
    "    create_combined_folder_structure(base_path, new_combined_path, folders)\n",
    "    \n",
    "    # Sample and copy combined images\n",
    "    sample_and_copy_combined_images(base_path, new_combined_path, categories, folders, samples)\n",
    "\n",
    "    print(\"Combined sampling and copying completed!\")\n"
   ]
  }
 ],
 "metadata": {
  "kernelspec": {
   "display_name": "venv",
   "language": "python",
   "name": "python3"
  },
  "language_info": {
   "codemirror_mode": {
    "name": "ipython",
    "version": 3
   },
   "file_extension": ".py",
   "mimetype": "text/x-python",
   "name": "python",
   "nbconvert_exporter": "python",
   "pygments_lexer": "ipython3",
   "version": "3.12.4"
  }
 },
 "nbformat": 4,
 "nbformat_minor": 2
}
